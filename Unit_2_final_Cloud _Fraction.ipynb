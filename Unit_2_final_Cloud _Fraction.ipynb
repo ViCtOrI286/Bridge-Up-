{
 "cells": [
  {
   "cell_type": "markdown",
   "metadata": {},
   "source": [
    "# Unit_2 Final Project"
   ]
  },
  {
   "cell_type": "markdown",
   "metadata": {},
   "source": [
    "Import the libraries "
   ]
  },
  {
   "cell_type": "code",
   "execution_count": 35,
   "metadata": {},
   "outputs": [],
   "source": [
    "import matplotlib.pyplot as plt\n",
    "import numpy as np\n",
    "import csv"
   ]
  },
  {
   "cell_type": "markdown",
   "metadata": {},
   "source": [
    "Opens the data file"
   ]
  },
  {
   "cell_type": "code",
   "execution_count": 36,
   "metadata": {},
   "outputs": [],
   "source": [
    "csvFile = open(\"CloudFraction1_2018.csv\", 'r') \n",
    "csvReader = csv.reader(csvFile, delimiter=',')\n",
    "data_lists = list(csvReader)"
   ]
  },
  {
   "cell_type": "markdown",
   "metadata": {},
   "source": [
    "Print data_lists"
   ]
  },
  {
   "cell_type": "code",
   "execution_count": 37,
   "metadata": {
    "scrolled": true
   },
   "outputs": [
    {
     "name": "stdout",
     "output_type": "stream",
     "text": [
      "['99999.0', '99999.0', '99999.0', '99999.0', '99999.0', '99999.0', '99999.0', '99999.0', '99999.0', '99999.0', '99999.0', '99999.0', '99999.0', '99999.0', '99999.0', '99999.0', '99999.0', '99999.0', '99999.0', '99999.0', '99999.0', '99999.0', '99999.0', '99999.0', '99999.0', '99999.0', '99999.0', '99999.0', '99999.0', '99999.0', '99999.0', '99999.0', '99999.0', '99999.0', '99999.0', '99999.0', '99999.0', '99999.0', '99999.0', '99999.0', '99999.0', '99999.0', '99999.0', '99999.0', '99999.0', '99999.0', '99999.0', '99999.0', '99999.0', '99999.0', '99999.0', '99999.0', '99999.0', '99999.0', '99999.0', '99999.0', '99999.0', '99999.0', '99999.0', '99999.0', '99999.0', '99999.0', '99999.0', '99999.0', '99999.0', '99999.0', '99999.0', '99999.0', '99999.0', '99999.0', '99999.0', '99999.0', '99999.0', '99999.0', '99999.0', '99999.0', '99999.0', '99999.0', '99999.0', '99999.0', '99999.0', '99999.0', '99999.0', '99999.0', '99999.0', '99999.0', '99999.0', '99999.0', '99999.0', '99999.0', '99999.0', '99999.0', '99999.0', '99999.0', '99999.0', '99999.0', '99999.0', '99999.0', '99999.0', '99999.0', '99999.0', '99999.0', '99999.0', '99999.0', '99999.0', '99999.0', '99999.0', '99999.0', '99999.0', '99999.0', '99999.0', '99999.0', '99999.0', '99999.0', '99999.0', '99999.0', '99999.0', '99999.0', '99999.0', '99999.0', '99999.0', '99999.0', '99999.0', '99999.0', '99999.0', '99999.0', '99999.0', '99999.0', '99999.0', '99999.0', '99999.0', '99999.0', '99999.0', '99999.0', '99999.0', '99999.0', '99999.0', '99999.0', '99999.0', '99999.0', '99999.0', '99999.0', '99999.0', '99999.0', '99999.0', '99999.0', '99999.0', '99999.0', '99999.0', '99999.0', '99999.0', '99999.0', '99999.0', '99999.0', '99999.0', '99999.0', '99999.0', '99999.0', '99999.0', '99999.0', '99999.0', '99999.0', '99999.0', '99999.0', '99999.0', '99999.0', '99999.0', '99999.0', '99999.0', '99999.0', '99999.0', '99999.0', '99999.0', '99999.0', '99999.0', '99999.0', '99999.0', '99999.0', '99999.0', '99999.0', '99999.0', '99999.0', '99999.0', '99999.0', '99999.0', '99999.0', '99999.0', '99999.0', '99999.0', '99999.0', '99999.0', '99999.0', '99999.0', '99999.0', '99999.0', '99999.0', '99999.0', '99999.0', '99999.0', '99999.0', '99999.0', '99999.0', '99999.0', '99999.0', '99999.0', '99999.0', '99999.0', '99999.0', '99999.0', '99999.0', '99999.0', '99999.0', '99999.0', '99999.0', '99999.0', '99999.0', '99999.0', '99999.0', '99999.0', '99999.0', '99999.0', '99999.0', '99999.0', '99999.0', '99999.0', '99999.0', '99999.0', '99999.0', '99999.0', '99999.0', '99999.0', '99999.0', '99999.0', '99999.0', '99999.0', '99999.0', '99999.0', '99999.0', '99999.0', '99999.0', '99999.0', '99999.0', '99999.0', '99999.0', '99999.0', '99999.0', '99999.0', '99999.0', '99999.0', '99999.0', '99999.0', '99999.0', '99999.0', '99999.0', '99999.0', '99999.0', '99999.0', '99999.0', '99999.0', '99999.0', '99999.0', '99999.0', '99999.0', '99999.0', '99999.0', '99999.0', '99999.0', '99999.0', '99999.0', '99999.0', '99999.0', '99999.0', '99999.0', '99999.0', '99999.0', '99999.0', '99999.0', '99999.0', '99999.0', '99999.0', '99999.0', '99999.0', '99999.0', '99999.0', '99999.0', '99999.0', '99999.0', '99999.0', '99999.0', '99999.0', '99999.0', '99999.0', '99999.0', '99999.0', '99999.0', '99999.0', '99999.0', '99999.0', '99999.0', '99999.0', '99999.0', '99999.0', '99999.0', '99999.0', '99999.0', '99999.0', '99999.0', '99999.0', '99999.0', '99999.0', '99999.0', '99999.0', '99999.0', '99999.0', '99999.0', '99999.0', '99999.0', '99999.0', '99999.0', '99999.0', '99999.0', '99999.0', '99999.0', '99999.0', '99999.0', '99999.0', '99999.0', '99999.0', '99999.0', '99999.0', '99999.0', '99999.0', '99999.0', '99999.0', '99999.0', '99999.0', '99999.0', '99999.0', '99999.0', '99999.0', '99999.0', '99999.0', '99999.0', '99999.0', '99999.0', '99999.0', '99999.0', '99999.0', '99999.0', '99999.0', '99999.0', '99999.0', '99999.0', '99999.0', '99999.0', '99999.0', '99999.0', '99999.0', '99999.0', '99999.0', '99999.0', '99999.0', '99999.0', '99999.0', '99999.0', '99999.0', '99999.0', '99999.0', '99999.0', '99999.0', '99999.0', '99999.0', '99999.0', '99999.0', '99999.0', '99999.0', '99999.0', '99999.0', '99999.0', '99999.0', '99999.0', '99999.0', '99999.0', '99999.0', '99999.0', '99999.0', '99999.0', '99999.0', '99999.0', '99999.0', '99999.0', '99999.0', '99999.0', '99999.0', '99999.0', '99999.0', '99999.0', '99999.0', '99999.0', '99999.0', '99999.0', '99999.0', '99999.0', '99999.0', '99999.0', '99999.0', '99999.0', '99999.0', '99999.0', '99999.0', '99999.0', '99999.0', '99999.0', '99999.0', '99999.0', '99999.0', '99999.0', '99999.0', '99999.0', '99999.0', '99999.0', '99999.0', '99999.0', '99999.0', '99999.0', '99999.0', '99999.0', '99999.0', '99999.0', '99999.0', '99999.0', '99999.0', '99999.0', '99999.0', '99999.0', '99999.0', '99999.0', '99999.0', '99999.0', '99999.0', '99999.0', '99999.0', '99999.0', '99999.0', '99999.0', '99999.0', '99999.0', '99999.0', '99999.0', '99999.0', '99999.0', '99999.0', '99999.0', '99999.0', '99999.0', '99999.0', '99999.0', '99999.0', '99999.0', '99999.0', '99999.0', '99999.0', '99999.0', '99999.0', '99999.0', '99999.0', '99999.0', '99999.0', '99999.0', '99999.0', '99999.0', '99999.0', '99999.0', '99999.0', '99999.0', '99999.0', '99999.0', '99999.0', '99999.0', '99999.0', '99999.0', '99999.0', '99999.0', '99999.0', '99999.0', '99999.0', '99999.0', '99999.0', '99999.0', '99999.0', '99999.0', '99999.0', '99999.0', '99999.0', '99999.0', '99999.0', '99999.0', '99999.0', '99999.0', '99999.0', '99999.0', '99999.0', '99999.0', '99999.0', '99999.0', '99999.0', '99999.0', '99999.0', '99999.0', '99999.0', '99999.0', '99999.0', '99999.0', '99999.0', '99999.0', '99999.0', '99999.0', '99999.0', '99999.0', '99999.0', '99999.0', '99999.0', '99999.0', '99999.0', '99999.0', '99999.0', '99999.0', '99999.0', '99999.0', '99999.0', '99999.0', '99999.0', '99999.0', '99999.0', '99999.0', '99999.0', '99999.0', '99999.0', '99999.0', '99999.0', '99999.0', '99999.0', '99999.0', '99999.0', '99999.0', '99999.0', '99999.0', '99999.0', '99999.0', '99999.0', '99999.0', '99999.0', '99999.0', '99999.0', '99999.0', '99999.0', '99999.0', '99999.0', '99999.0', '99999.0', '99999.0', '99999.0', '99999.0', '99999.0', '99999.0', '99999.0', '99999.0', '99999.0', '99999.0', '99999.0', '99999.0', '99999.0', '99999.0', '99999.0', '99999.0', '99999.0', '99999.0', '99999.0', '99999.0', '99999.0', '99999.0', '99999.0', '99999.0', '99999.0', '99999.0', '99999.0', '99999.0', '99999.0', '99999.0', '99999.0', '99999.0', '99999.0', '99999.0', '99999.0', '99999.0', '99999.0', '99999.0', '99999.0', '99999.0', '99999.0', '99999.0', '99999.0', '99999.0', '99999.0', '99999.0', '99999.0', '99999.0', '99999.0', '99999.0', '99999.0', '99999.0', '99999.0', '99999.0', '99999.0', '99999.0', '99999.0', '99999.0', '99999.0', '99999.0', '99999.0', '99999.0', '99999.0', '99999.0', '99999.0', '99999.0', '99999.0', '99999.0', '99999.0', '99999.0', '99999.0', '99999.0', '99999.0', '99999.0', '99999.0', '99999.0', '99999.0', '99999.0', '99999.0', '99999.0', '99999.0', '99999.0', '99999.0', '99999.0', '99999.0', '99999.0', '99999.0', '99999.0', '99999.0', '99999.0', '99999.0', '99999.0', '99999.0', '99999.0', '99999.0', '99999.0', '99999.0', '99999.0', '99999.0', '99999.0', '99999.0', '99999.0', '99999.0', '99999.0', '99999.0', '99999.0', '99999.0', '99999.0', '99999.0', '99999.0', '99999.0', '99999.0', '99999.0', '99999.0', '99999.0', '99999.0', '99999.0', '99999.0', '99999.0', '99999.0', '99999.0', '99999.0', '99999.0', '99999.0', '99999.0', '99999.0', '99999.0', '99999.0', '99999.0', '99999.0', '99999.0', '99999.0', '99999.0', '99999.0', '99999.0', '99999.0', '99999.0', '99999.0', '99999.0', '99999.0', '99999.0', '99999.0', '99999.0', '99999.0', '99999.0', '99999.0', '99999.0', '99999.0', '99999.0', '99999.0', '99999.0', '99999.0', '99999.0', '99999.0', '99999.0', '99999.0', '99999.0', '99999.0', '99999.0', '99999.0', '99999.0']\n"
     ]
    }
   ],
   "source": [
    "\n",
    "\n",
    "print(data_lists[0])"
   ]
  },
  {
   "cell_type": "markdown",
   "metadata": {},
   "source": [
    "Identify one row"
   ]
  },
  {
   "cell_type": "code",
   "execution_count": 39,
   "metadata": {},
   "outputs": [
    {
     "name": "stdout",
     "output_type": "stream",
     "text": [
      "720\n"
     ]
    }
   ],
   "source": [
    "print(len(data_lists[0]))"
   ]
  },
  {
   "cell_type": "markdown",
   "metadata": {},
   "source": [
    "Identify all"
   ]
  },
  {
   "cell_type": "code",
   "execution_count": 40,
   "metadata": {},
   "outputs": [
    {
     "data": {
      "text/plain": [
       "360"
      ]
     },
     "execution_count": 40,
     "metadata": {},
     "output_type": "execute_result"
    }
   ],
   "source": [
    "len(data_lists)"
   ]
  },
  {
   "cell_type": "markdown",
   "metadata": {},
   "source": [
    "Make two new variables called width and height"
   ]
  },
  {
   "cell_type": "code",
   "execution_count": 41,
   "metadata": {},
   "outputs": [],
   "source": [
    "Width = 720\n",
    "height = 360"
   ]
  },
  {
   "cell_type": "markdown",
   "metadata": {},
   "source": [
    "Create a new numpy function to create a matrix"
   ]
  },
  {
   "cell_type": "code",
   "execution_count": 42,
   "metadata": {},
   "outputs": [],
   "source": [
    "grid = np.empty([height, Width, 3], dtype=np.uint8) "
   ]
  },
  {
   "cell_type": "markdown",
   "metadata": {},
   "source": [
    "Make a for loop"
   ]
  },
  {
   "cell_type": "code",
   "execution_count": 43,
   "metadata": {},
   "outputs": [],
   "source": [
    "all_values = [] \n",
    "\n",
    "for r, row in enumerate(data_lists):\n",
    "    for c, value in enumerate(row):\n",
    "        if float(value) < 99999:\n",
    "            all_values.append(float(value))\n",
    "        if float(value) <= 0.0:\n",
    "            grid[r, c] = [0, 0, 0]\n",
    "        elif float(value) <= .2:\n",
    "            grid[r, c] = [66, 66, 66]\n",
    "        elif float(value) <= .4:\n",
    "            grid[r, c] = [163, 157, 157]\n",
    "        elif float(value) <= .6:\n",
    "            grid[r, c] = [168, 167, 167] \n",
    "        elif float(value) <= .8:\n",
    "            grid[r, c] = [224, 224, 209]\n",
    "        elif float(value) <= 1.0:\n",
    "            grid[r, c] = [255, 255, 255]"
   ]
  },
  {
   "cell_type": "markdown",
   "metadata": {},
   "source": [
    "\n",
    "Identify max and min"
   ]
  },
  {
   "cell_type": "code",
   "execution_count": 44,
   "metadata": {},
   "outputs": [
    {
     "name": "stdout",
     "output_type": "stream",
     "text": [
      "0.0\n",
      "1.0\n"
     ]
    }
   ],
   "source": [
    "print(min(all_values))\n",
    "print(max(all_values))"
   ]
  },
  {
   "cell_type": "markdown",
   "metadata": {},
   "source": [
    "Make the cloud cover"
   ]
  },
  {
   "cell_type": "code",
   "execution_count": 45,
   "metadata": {},
   "outputs": [
    {
     "name": "stderr",
     "output_type": "stream",
     "text": [
      "'c' argument looks like a single numeric RGB or RGBA sequence, which should be avoided as value-mapping will have precedence in case its length matches with 'x' & 'y'.  Please use a 2-D array with a single row if you really want to specify the same RGB or RGBA value for all points.\n",
      "'c' argument looks like a single numeric RGB or RGBA sequence, which should be avoided as value-mapping will have precedence in case its length matches with 'x' & 'y'.  Please use a 2-D array with a single row if you really want to specify the same RGB or RGBA value for all points.\n",
      "'c' argument looks like a single numeric RGB or RGBA sequence, which should be avoided as value-mapping will have precedence in case its length matches with 'x' & 'y'.  Please use a 2-D array with a single row if you really want to specify the same RGB or RGBA value for all points.\n",
      "'c' argument looks like a single numeric RGB or RGBA sequence, which should be avoided as value-mapping will have precedence in case its length matches with 'x' & 'y'.  Please use a 2-D array with a single row if you really want to specify the same RGB or RGBA value for all points.\n",
      "'c' argument looks like a single numeric RGB or RGBA sequence, which should be avoided as value-mapping will have precedence in case its length matches with 'x' & 'y'.  Please use a 2-D array with a single row if you really want to specify the same RGB or RGBA value for all points.\n",
      "'c' argument looks like a single numeric RGB or RGBA sequence, which should be avoided as value-mapping will have precedence in case its length matches with 'x' & 'y'.  Please use a 2-D array with a single row if you really want to specify the same RGB or RGBA value for all points.\n"
     ]
    },
    {
     "data": {
      "image/png": "[encoded data removed]",
      "text/plain": [
       "<Figure size 432x288 with 1 Axes>"
      ]
     },
     "metadata": {
      "needs_background": "light"
     },
     "output_type": "display_data"
    }
   ],
   "source": [
    "plt.scatter([],[], c = (255/255, 255/255, 255/255), edgecolor=\"black\", label=\"100% cloud cover\")\n",
    "plt.scatter([],[], c = (224/255, 224/255, 209/255), edgecolor=\"black\", label=\"80% cloud cover\")\n",
    "plt.scatter([],[], c = (168/255, 167/255, 167/255), edgecolor=\"black\", label=\"60% cloud cover\")\n",
    "plt.scatter([],[], c = (163/255, 157/255, 157/255), edgecolor=\"black\", label=\"40% cloud cover\")\n",
    "plt.scatter([],[], c = (66/255, 66/255, 66/255), edgecolor=\"black\", label=\"20% cloud cover\")\n",
    "plt.scatter([],[], c = (0/255, 0/255, 0/255), edgecolor=\"black\", label=\"0% cloud cover\")\n",
    "plt.legend()\n",
    "plt.legend()\n",
    "plt.legend()\n",
    "plt.legend()\n",
    "plt.legend()\n",
    "plt.legend()\n",
    "plt.title(\"Cloud Fraction 2018\")\n",
    "plt.imshow(grid)\n",
    "plt.axis('off')\n",
    "plt.savefig(\"Cloud_Fraction_2018.png\",dpi = 1000)\n",
    "plt.xlabel(\"\")\n",
    "plt.ylabel(\"\")\n",
    "plt.legend(bbox_to_anchor = [1.4, 1.0])\n",
    "plt.show()"
   ]
  }
 ],
 "metadata": {
  "kernelspec": {
   "display_name": "Python 3",
   "language": "python",
   "name": "python3"
  },
  "language_info": {
   "codemirror_mode": {
    "name": "ipython",
    "version": 3
   },
   "file_extension": ".py",
   "mimetype": "text/x-python",
   "name": "python",
   "nbconvert_exporter": "python",
   "pygments_lexer": "ipython3",
   "version": "3.7.3"
  }
 },
 "nbformat": 4,
 "nbformat_minor": 2
}
