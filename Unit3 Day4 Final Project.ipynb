{
 "cells": [
  {
   "cell_type": "markdown",
   "metadata": {},
   "source": [
    "# Unit3_Day4_Final Project "
   ]
  },
  {
   "cell_type": "markdown",
   "metadata": {},
   "source": [
    "Open file and read as string"
   ]
  },
  {
   "cell_type": "code",
   "execution_count": 51,
   "metadata": {},
   "outputs": [],
   "source": [
    "minke = open(\"Minke_Whale_DNA.txt\").read()\n",
    "hippo = open(\"Hippopotamus_DNA.txt\").read()\n",
    "boar = open(\"Sus_scrofa_DNA.txt\").read()"
   ]
  },
  {
   "cell_type": "markdown",
   "metadata": {},
   "source": [
    "I made my own len function "
   ]
  },
  {
   "cell_type": "code",
   "execution_count": 52,
   "metadata": {},
   "outputs": [],
   "source": [
    "def lol(obj):\n",
    "    c = 0\n",
    "    for i in obj:\n",
    "        c += 1\n",
    "    return c"
   ]
  },
  {
   "cell_type": "markdown",
   "metadata": {},
   "source": [
    "Print out the files"
   ]
  },
  {
   "cell_type": "code",
   "execution_count": 53,
   "metadata": {},
   "outputs": [
    {
     "name": "stdout",
     "output_type": "stream",
     "text": [
      "AATCCCCAAAGCTAAGGAGACTATCCTTCCTAAGCATAAAGAAATGCCCTTCCCTATATCTCCAGTAGARCCCTTTATTGAAAGCCAGAGCCTGCCTCTCACTGATCTTGAAAATCTGCACCTTCCTCTGTCTCTGCTCCAGTCCTTGATGCACCAGCCTCCCCAGCCTCTTCCTCCTACCCCCATGTTTCCTCCTCAGCCCCTGCCGTCCCTTTCTCAGCCCAAAGTCCTGCCTATTCCCCAGCAAGTGGTGCCCCACATCCAGAGACATATGCCCATCCA\n",
      "AGTCCCCAAAGCAAAGGAGACTATCCTTCCTAAGCATAAAGAAATGCCCTTCTCTAAATCTCCAGTAGAGCCCTTTACTGAAAGGCAGAGCCTGACTCTTACTGATCTTGAAAATCTGCARCTTCCCCTGCCTCTGCTTCAGTCCTGGATGCACCCACRTTCCCAGCCTCTTTCTCCTACCCTCATGTTTCCTTCTCAGCCCTTGCAGTCCCTTCCACAGCCCGTTTCTCAGCCCCAAGCCCTGCCTATTCCCCAGCAAGTGGTACCCTACCCACAGAGAGA\n",
      "AGTCCCCAAATTGTCCAAAATTTAATTGGGCATATTTCAATAACAAAGGCAACTAATATAATAGTGCACAAGCAATATCTTTGAATGGGCACTTCACCAAAGAGGTTATTTTAATTGTCAATAAATATATGAAAAGATGTTCAATACCATTATTTCTCTGGAAAATGCAAGTTAAAAATACCAGATATCATGACACAACCTCCAGAATAGCTGAAATGAGAAGAATTGGTAAAACCAAGTATTTACAAAAATAAGCAAACTGAATAAATGCTAGGTAATGTT\n"
     ]
    }
   ],
   "source": [
    "print(minke)\n",
    "print(hippo)\n",
    "print(boar)"
   ]
  },
  {
   "cell_type": "markdown",
   "metadata": {},
   "source": [
    "Time to look for the difference "
   ]
  },
  {
   "cell_type": "code",
   "execution_count": 54,
   "metadata": {},
   "outputs": [
    {
     "name": "stdout",
     "output_type": "stream",
     "text": [
      "23.404255319148938\n"
     ]
    }
   ],
   "source": [
    "k=0\n",
    "for c, i in enumerate(minke):\n",
    "    if i != hippo[c]:\n",
    "        k += 1\n",
    "print(k/lol(minke)*100)"
   ]
  },
  {
   "cell_type": "code",
   "execution_count": 55,
   "metadata": {},
   "outputs": [],
   "source": [
    "#There is a 95% difference in the genetic code for the casein protein in hippopotamuses and minke whales\n",
    "M_H = 23.404255319148938\n"
   ]
  },
  {
   "cell_type": "code",
   "execution_count": 57,
   "metadata": {},
   "outputs": [
    {
     "name": "stdout",
     "output_type": "stream",
     "text": [
      "71.63120567375887\n"
     ]
    }
   ],
   "source": [
    "k = 0\n",
    "for c, i in enumerate(hippo):\n",
    "    if i != boar[c]:\n",
    "        k += 1\n",
    "print(k/lol(hippo)*100)"
   ]
  },
  {
   "cell_type": "code",
   "execution_count": 58,
   "metadata": {},
   "outputs": [],
   "source": [
    "#There is a 71% difference in the genetic code for the casein protein in hippopotamuses and wild boars\n",
    "H_B = 71.63120567375887\n"
   ]
  },
  {
   "cell_type": "code",
   "execution_count": 59,
   "metadata": {},
   "outputs": [
    {
     "name": "stdout",
     "output_type": "stream",
     "text": [
      "72.3404255319149\n"
     ]
    }
   ],
   "source": [
    "k = 0\n",
    "for c, i in enumerate(minke):\n",
    "    if i != boar[c]:\n",
    "        k += 1\n",
    "print(k/lol(hippo)*100)"
   ]
  },
  {
   "cell_type": "code",
   "execution_count": 60,
   "metadata": {},
   "outputs": [],
   "source": [
    "#There is a 72% difference in the genetic code for the casein protein in minke whales and wild boars\n",
    "M_B = 72.3404255319149"
   ]
  },
  {
   "cell_type": "markdown",
   "metadata": {},
   "source": [
    "Import matplotlib"
   ]
  },
  {
   "cell_type": "code",
   "execution_count": 62,
   "metadata": {
    "scrolled": false
   },
   "outputs": [
    {
     "data": {
      "image/png": "[encoded data removed]",
      "text/plain": [
       "<Figure size 432x288 with 1 Axes>"
      ]
     },
     "metadata": {
      "needs_background": "light"
     },
     "output_type": "display_data"
    }
   ],
   "source": [
    "import matplotlib.pyplot as plt\n",
    "plt.bar([1], [M_H], color = \"b\", label = \"23%\")\n",
    "plt.bar([2], [H_B], color = \"mediumblue\", label = \"72%\")\n",
    "plt.bar([3],[M_B], color = \"darkblue\", label = \"71.6%\")\n",
    "plt.xticks([1,2,3], [\"Minke & Hippo\", \"Hippo & Boar\", \"Minke & Boar\"])\n",
    "plt.title(\"The Difference\")\n",
    "plt.legend()\n",
    "plt.show()"
   ]
  },
  {
   "cell_type": "code",
   "execution_count": null,
   "metadata": {},
   "outputs": [],
   "source": []
  }
 ],
 "metadata": {
  "kernelspec": {
   "display_name": "Python 3",
   "language": "python",
   "name": "python3"
  },
  "language_info": {
   "codemirror_mode": {
    "name": "ipython",
    "version": 3
   },
   "file_extension": ".py",
   "mimetype": "text/x-python",
   "name": "python",
   "nbconvert_exporter": "python",
   "pygments_lexer": "ipython3",
   "version": "3.7.3"
  }
 },
 "nbformat": 4,
 "nbformat_minor": 2
}
